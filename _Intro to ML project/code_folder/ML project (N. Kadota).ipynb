{
 "cells": [
  {
   "cell_type": "markdown",
   "id": "4d3e544b",
   "metadata": {},
   "source": [
    "# Background\n",
    "### Survey on English education in Japan by MEXT\n",
    "MEXT (the Ministry of Education, Culture, Sports, Science and Technology in Japan) has been conducting surveys on English education in public elementary and secondary schools across Japan since 2013. \n",
    "However, their report is fairly simplistic, consisting mostly of basic visualizations of raw data and 'analysis' lacking sufficient theoretical validation. Those approaches appear to conveniently fit a predetermined scenario, thus aligning the conclusions with their policymaking objectives. \n",
    "Furthermore, there has not been sufficient effort to ensure falsifiability for the survey. While the data is publicly accessible on MEXT's website, it is available only in PDF format. When I contacted the responsible department to inquire about obtaining the data in CSV format for reanalysis, my request was ultimately denied on the grounds that reformatting the public data would be too time-consuming. Out of curiosity, I further inquired about the specific difficulties in extracting data that is already public but received no response.\n",
    "- **Issue-1:** Simplistic analysis of the large scale, procedure-expensive data\n",
    "- **Issue-2:** Low level data accessibility and reproducibility\n",
    "\n",
    "### Scarce related studies \n",
    "Kadota (2023) discovered through reviews of academic databases like Google Scholar and CiNii Research that the survey data has seldom been reanalyzed or subjected to rigorous analytical techniques. This oversight may be partly due to what Terasawa (2021) suggests: a 'lack of expertise in rigorous scientific approaches among English education researchers.' Consequently, many studies assert the 'effect' of certain educational approaches without engaging in statistical analysis or providing a falsifiable discussion. Given the potential impact of MEXT’s survey on policy decisions affecting over 20,000 public elementary and secondary schools in Japan, it is deeply concerning that a decade has passed since the initial survey without substantial scientific critique.\n",
    "- **Issue-3:** Practically no studies/critiques of the data by third parties"
   ]
  },
  {
   "cell_type": "markdown",
   "id": "ef8b687a",
   "metadata": {},
   "source": [
    "# Precursor studies\n",
    "### My previous study (Kadota, 2023)\n",
    "Given the situation, I (Kadota, 2023) **converted the PDF data into a CSV file and made it accessible on GitHub for other researchers and interested parties.** (https://github.com/Naomichi-K/EngEduSituation_Survey_2021-) I then analyzed the rate of students holding a certain level of CEFR certificate, which MEXT defines as an index of learning achievement, using binomial logistic regression model approaches. One remarkable finding from the analysis was that increased usage of English by teachers had a statistically significant negative impact on students' achievement in English learning.\n",
    "- *Improvement-1&3:* Demonstrated a statistical approach to analyzing socio-level educational data on English education\n",
    "- *Improvement-2:* Shared the data file and code for preprocessing on GitHub, ensuring falsifiability and reproducibility\n",
    "\n",
    "### Limitations / Follow-up studies in 2024\n",
    "In my previous study in 2023, I constructed a statistical model assuming that all predictors had a “linear” effect on the response, which seemed unlikely. Additionally, the counterintuitive conclusion that increased usage of English by teachers is unpreferable might have overemphasized data and overlooked efforts to derive conclusions that align with domain knowledge. \n",
    "- **Issue-4:** Failed to consider nonlinearity\n",
    "- **Issue-5:** Counterintuitive and unexplainable conclusions\n",
    "\n",
    "Therefore, in 2024, I initiated another project to address these issues. Firstly, I applied Generalized Additive Model (GAM) approaches and identified some nonlinear relationships between the features. Furthermore, I proposed an alternative index that might be more relevant than the one suggested by MEXT. In summary, I demonstrated the unreliability of using the rate of holding a specific certificate as an index of learning success. I also highlighted the benefits of analyzing the factors affecting students’ language activity duration in class through GAM methods and domain-knowledge-based discussions.\n",
    "- *Improvement-4:* Identified nonlinear relationships between features, applying GAM approaches\n",
    "- *Improvement-5:* Suggested another model, deriving implications that match domain knowledge\n",
    "\n",
    "##### References\n",
    "MEXT. (2022). Report on the 2022 Survey of English Education.\n",
    "https://www.mext.go.jp/a_menu/kokusai/gaikokugo/1415043_00004.htm\n",
    "\n",
    "Urano, K., Kudo, Y., Kusanagi, K., Sakai, H., Terasawa, T., and Watari, Y. (2021). The Evidence of English Education: For the Future Studies on English Education. Kenkyu-sha. P.32-33.\n",
    "\n",
    "Kadota N. (2023). Exploration Evidence-Generating Approaches from the Survey of English Education; Regional Comparisons of English Achievement Indices through Binomial-Logistic Regression Analysis. (shared on the website of Ministry of Internal Affairs) \n",
    "https://www.nstac.go.jp/sys/files/sites/3/2023U5-shorei-03.pdf\n"
   ]
  },
  {
   "cell_type": "markdown",
   "id": "26e5c847",
   "metadata": {},
   "source": [
    "# Remaining limitations to be addressed in this project\n",
    "In my previous follow-up study, as I built the initial full model using a GAM, I selected features that seemed relevant based on my domain knowledge. While this decision can be justified to some extent, it could also be seen as arbitrary or biased. Therefore, I am now exploring the use of machine learning techniques during the feature selection phase of statistical modeling. More specifically, I plan to employ L1-norm and Elastic-Net regularization methods with the intent of building more accurate GAMs.\n",
    " - Issue-6: Possibly arbitrary feature selection\n",
    "- Potential improvement-6: Regularizations (GAMs with a Lasso / Elastic-Net regularization)"
   ]
  },
  {
   "cell_type": "markdown",
   "id": "f985f9d1",
   "metadata": {},
   "source": [
    "# Analysis"
   ]
  },
  {
   "cell_type": "code",
   "execution_count": 117,
   "id": "f2dd037c-1763-4ad1-b7d5-a94c66aa312b",
   "metadata": {
    "scrolled": true
   },
   "outputs": [],
   "source": [
    "# Load packages\n",
    "import pandas as pd\n",
    "import numpy as np\n",
    "import seaborn as sns\n",
    "import matplotlib.pyplot as plt\n",
    "from sklearn.linear_model import Lasso, LassoCV, ElasticNet, ElasticNetCV\n",
    "from sklearn.model_selection import train_test_split\n",
    "from sklearn.metrics import mean_squared_error, r2_score\n",
    "from pygam import LinearGAM, s, f"
   ]
  },
  {
   "cell_type": "code",
   "execution_count": 118,
   "id": "694f34d9-4760-4e2a-b61e-9126dda2a99d",
   "metadata": {},
   "outputs": [
    {
     "name": "stdout",
     "output_type": "stream",
     "text": [
      "(47, 12)\n",
      "  Prefecture  C_A1cefr.rate  C_CDgrasp  C_LA50  C_LA75  C_tE50  C_tE75   C_SW  \\\n",
      "0        北海道         -0.803      0.541   1.479  -0.409   0.967  -0.126  0.475   \n",
      "1        青森県         -0.524     -0.692  -0.494  -0.937  -0.208  -1.583  0.122   \n",
      "2        岩手県          0.064      1.051  -0.340   1.923  -0.313   0.348  0.717   \n",
      "3        宮城県         -0.955      1.831  -0.785  -0.034  -0.987   0.208  0.301   \n",
      "4        秋田県          0.062      0.020   2.070   0.226   2.899   0.374  0.556   \n",
      "\n",
      "   C_ALT  C_ALTout  C_ICTpre  C_ICTrec  \n",
      "0 -0.934     0.268     0.495    -0.393  \n",
      "1 -0.964     0.178    -0.432    -0.934  \n",
      "2 -0.519    -0.570    -0.650     0.069  \n",
      "3  1.448     0.166    -0.564    -0.279  \n",
      "4 -0.130     0.687    -0.450    -1.312  \n"
     ]
    },
    {
     "data": {
      "text/html": [
       "<div>\n",
       "<style scoped>\n",
       "    .dataframe tbody tr th:only-of-type {\n",
       "        vertical-align: middle;\n",
       "    }\n",
       "\n",
       "    .dataframe tbody tr th {\n",
       "        vertical-align: top;\n",
       "    }\n",
       "\n",
       "    .dataframe thead th {\n",
       "        text-align: right;\n",
       "    }\n",
       "</style>\n",
       "<table border=\"1\" class=\"dataframe\">\n",
       "  <thead>\n",
       "    <tr style=\"text-align: right;\">\n",
       "      <th></th>\n",
       "      <th>C_A1cefr.rate</th>\n",
       "      <th>C_CDgrasp</th>\n",
       "      <th>C_LA50</th>\n",
       "      <th>C_LA75</th>\n",
       "      <th>C_tE50</th>\n",
       "      <th>C_tE75</th>\n",
       "      <th>C_SW</th>\n",
       "      <th>C_ALT</th>\n",
       "      <th>C_ALTout</th>\n",
       "      <th>C_ICTpre</th>\n",
       "      <th>C_ICTrec</th>\n",
       "    </tr>\n",
       "  </thead>\n",
       "  <tbody>\n",
       "    <tr>\n",
       "      <th>count</th>\n",
       "      <td>4.700e+01</td>\n",
       "      <td>4.700e+01</td>\n",
       "      <td>4.700e+01</td>\n",
       "      <td>4.700e+01</td>\n",
       "      <td>4.700e+01</td>\n",
       "      <td>4.700e+01</td>\n",
       "      <td>4.700e+01</td>\n",
       "      <td>4.700e+01</td>\n",
       "      <td>4.700e+01</td>\n",
       "      <td>4.700e+01</td>\n",
       "      <td>4.700e+01</td>\n",
       "    </tr>\n",
       "    <tr>\n",
       "      <th>mean</th>\n",
       "      <td>4.255e-11</td>\n",
       "      <td>-4.255e-11</td>\n",
       "      <td>6.383e-11</td>\n",
       "      <td>-8.511e-11</td>\n",
       "      <td>4.255e-11</td>\n",
       "      <td>-4.255e-11</td>\n",
       "      <td>-2.128e-11</td>\n",
       "      <td>-2.128e-11</td>\n",
       "      <td>-2.128e-11</td>\n",
       "      <td>-4.255e-11</td>\n",
       "      <td>-4.724e-18</td>\n",
       "    </tr>\n",
       "    <tr>\n",
       "      <th>std</th>\n",
       "      <td>1.000e+00</td>\n",
       "      <td>1.000e+00</td>\n",
       "      <td>1.000e+00</td>\n",
       "      <td>1.000e+00</td>\n",
       "      <td>1.000e+00</td>\n",
       "      <td>1.000e+00</td>\n",
       "      <td>1.000e+00</td>\n",
       "      <td>1.000e+00</td>\n",
       "      <td>1.000e+00</td>\n",
       "      <td>1.000e+00</td>\n",
       "      <td>1.000e+00</td>\n",
       "    </tr>\n",
       "    <tr>\n",
       "      <th>min</th>\n",
       "      <td>-9.736e-01</td>\n",
       "      <td>-1.817e+00</td>\n",
       "      <td>-1.597e+00</td>\n",
       "      <td>-2.250e+00</td>\n",
       "      <td>-1.479e+00</td>\n",
       "      <td>-2.838e+00</td>\n",
       "      <td>-5.221e+00</td>\n",
       "      <td>-2.119e+00</td>\n",
       "      <td>-2.702e+00</td>\n",
       "      <td>-3.869e+00</td>\n",
       "      <td>-3.031e+00</td>\n",
       "    </tr>\n",
       "    <tr>\n",
       "      <th>25%</th>\n",
       "      <td>-5.328e-01</td>\n",
       "      <td>-7.783e-01</td>\n",
       "      <td>-7.756e-01</td>\n",
       "      <td>-6.695e-01</td>\n",
       "      <td>-6.516e-01</td>\n",
       "      <td>-5.313e-01</td>\n",
       "      <td>-1.621e-01</td>\n",
       "      <td>-7.730e-01</td>\n",
       "      <td>-6.395e-01</td>\n",
       "      <td>-4.051e-01</td>\n",
       "      <td>-4.004e-01</td>\n",
       "    </tr>\n",
       "    <tr>\n",
       "      <th>50%</th>\n",
       "      <td>-1.850e-01</td>\n",
       "      <td>-1.044e-01</td>\n",
       "      <td>-2.474e-01</td>\n",
       "      <td>2.747e-02</td>\n",
       "      <td>-2.076e-01</td>\n",
       "      <td>4.815e-02</td>\n",
       "      <td>2.942e-01</td>\n",
       "      <td>1.701e-02</td>\n",
       "      <td>1.777e-01</td>\n",
       "      <td>2.228e-02</td>\n",
       "      <td>-6.341e-02</td>\n",
       "    </tr>\n",
       "    <tr>\n",
       "      <th>75%</th>\n",
       "      <td>6.334e-02</td>\n",
       "      <td>7.164e-01</td>\n",
       "      <td>5.312e-01</td>\n",
       "      <td>6.110e-01</td>\n",
       "      <td>2.907e-01</td>\n",
       "      <td>6.742e-01</td>\n",
       "      <td>4.252e-01</td>\n",
       "      <td>7.084e-01</td>\n",
       "      <td>6.868e-01</td>\n",
       "      <td>5.303e-01</td>\n",
       "      <td>6.256e-01</td>\n",
       "    </tr>\n",
       "    <tr>\n",
       "      <th>max</th>\n",
       "      <td>5.147e+00</td>\n",
       "      <td>1.831e+00</td>\n",
       "      <td>2.162e+00</td>\n",
       "      <td>2.962e+00</td>\n",
       "      <td>2.899e+00</td>\n",
       "      <td>2.464e+00</td>\n",
       "      <td>8.047e-01</td>\n",
       "      <td>2.254e+00</td>\n",
       "      <td>1.994e+00</td>\n",
       "      <td>1.596e+00</td>\n",
       "      <td>1.959e+00</td>\n",
       "    </tr>\n",
       "  </tbody>\n",
       "</table>\n",
       "</div>"
      ],
      "text/plain": [
       "       C_A1cefr.rate  C_CDgrasp     C_LA50     C_LA75     C_tE50     C_tE75  \\\n",
       "count      4.700e+01  4.700e+01  4.700e+01  4.700e+01  4.700e+01  4.700e+01   \n",
       "mean       4.255e-11 -4.255e-11  6.383e-11 -8.511e-11  4.255e-11 -4.255e-11   \n",
       "std        1.000e+00  1.000e+00  1.000e+00  1.000e+00  1.000e+00  1.000e+00   \n",
       "min       -9.736e-01 -1.817e+00 -1.597e+00 -2.250e+00 -1.479e+00 -2.838e+00   \n",
       "25%       -5.328e-01 -7.783e-01 -7.756e-01 -6.695e-01 -6.516e-01 -5.313e-01   \n",
       "50%       -1.850e-01 -1.044e-01 -2.474e-01  2.747e-02 -2.076e-01  4.815e-02   \n",
       "75%        6.334e-02  7.164e-01  5.312e-01  6.110e-01  2.907e-01  6.742e-01   \n",
       "max        5.147e+00  1.831e+00  2.162e+00  2.962e+00  2.899e+00  2.464e+00   \n",
       "\n",
       "            C_SW      C_ALT   C_ALTout   C_ICTpre   C_ICTrec  \n",
       "count  4.700e+01  4.700e+01  4.700e+01  4.700e+01  4.700e+01  \n",
       "mean  -2.128e-11 -2.128e-11 -2.128e-11 -4.255e-11 -4.724e-18  \n",
       "std    1.000e+00  1.000e+00  1.000e+00  1.000e+00  1.000e+00  \n",
       "min   -5.221e+00 -2.119e+00 -2.702e+00 -3.869e+00 -3.031e+00  \n",
       "25%   -1.621e-01 -7.730e-01 -6.395e-01 -4.051e-01 -4.004e-01  \n",
       "50%    2.942e-01  1.701e-02  1.777e-01  2.228e-02 -6.341e-02  \n",
       "75%    4.252e-01  7.084e-01  6.868e-01  5.303e-01  6.256e-01  \n",
       "max    8.047e-01  2.254e+00  1.994e+00  1.596e+00  1.959e+00  "
      ]
     },
     "execution_count": 118,
     "metadata": {},
     "output_type": "execute_result"
    }
   ],
   "source": [
    "# Load the CSV file\n",
    "df = pd.read_csv(\"../dataset_folder/preprocessed_C_EngEdu.csv\", encoding='shift_jis') # encoding for JP characters\n",
    "# df = pd.read_csv(\"../dataset_folder/downsized_EngEdu.csv\", encoding='cp932') # another encoding\n",
    "\n",
    "print(df.shape)\n",
    "print(df.head())\n",
    "\n",
    "pd.set_option('display.precision', 3)\n",
    "df.describe()"
   ]
  },
  {
   "cell_type": "code",
   "execution_count": 119,
   "id": "cd3ab145",
   "metadata": {},
   "outputs": [
    {
     "name": "stdout",
     "output_type": "stream",
     "text": [
      "            C_A1cefr.rate  C_CDgrasp  C_LA50  C_tE50  C_tE75   C_SW  C_ALT  \\\n",
      "Prefecture                                                                   \n",
      "北海道                -0.803      0.541   1.479   0.967  -0.126  0.475 -0.934   \n",
      "青森県                -0.524     -0.692  -0.494  -0.208  -1.583  0.122 -0.964   \n",
      "岩手県                 0.064      1.051  -0.340  -0.313   0.348  0.717 -0.519   \n",
      "宮城県                -0.955      1.831  -0.785  -0.987   0.208  0.301  1.448   \n",
      "秋田県                 0.062      0.020   2.070   2.899   0.374  0.556 -0.130   \n",
      "\n",
      "            C_ALTout  C_ICTpre  C_ICTrec  \n",
      "Prefecture                                \n",
      "北海道            0.268     0.495    -0.393  \n",
      "青森県            0.178    -0.432    -0.934  \n",
      "岩手県           -0.570    -0.650     0.069  \n",
      "宮城県            0.166    -0.564    -0.279  \n",
      "秋田県            0.687    -0.450    -1.312  \n",
      "0   -0.409\n",
      "1   -0.937\n",
      "2    1.923\n",
      "3   -0.034\n",
      "4    0.226\n",
      "Name: C_LA75, dtype: float64\n"
     ]
    }
   ],
   "source": [
    "# Separate features and target\n",
    "X = df.drop('C_LA75', axis=1)\n",
    "y = df['C_LA75']\n",
    "\n",
    "# Set \"Prefecture\" as the index of the DataFrame\n",
    "X.set_index('Prefecture', inplace=True)\n",
    "# y = df[['Prefecture','C_LA75']] # note; X can be either a matrix or a data frame, but y has to be a vector, not a df.\n",
    "# y.set_index('Prefecture', inplace=True)\n",
    "\n",
    "print(X.head())\n",
    "print(y.head())"
   ]
  },
  {
   "cell_type": "code",
   "execution_count": 120,
   "id": "5dc6d8b5",
   "metadata": {},
   "outputs": [],
   "source": [
    "# Split the data into training and testing sets\n",
    "X_train, X_test, y_train, y_test = train_test_split(X, y, test_size=0.3, random_state=42)\n"
   ]
  },
  {
   "cell_type": "markdown",
   "id": "b815b985",
   "metadata": {},
   "source": [
    "# L1-norm feature selection"
   ]
  },
  {
   "cell_type": "code",
   "execution_count": 121,
   "id": "dc2537d3",
   "metadata": {},
   "outputs": [
    {
     "name": "stdout",
     "output_type": "stream",
     "text": [
      "Feature coefficients:\n",
      "C_A1cefr.rate: -0.0\n",
      "C_CDgrasp: 0.041595262732589094\n",
      "C_LA50: -0.015594388685940706\n",
      "C_tE50: 0.0\n",
      "C_tE75: 0.6446773239847494\n",
      "C_SW: 0.0\n",
      "C_ALT: 0.0\n",
      "C_ALTout: 0.0\n",
      "C_ICTpre: 0.2001720078082439\n",
      "C_ICTrec: 0.03342294051550982\n"
     ]
    }
   ],
   "source": [
    "# Initialize Lasso model with a small alpha\n",
    "lasso_model = Lasso(alpha=0.1)\n",
    "lasso_model.fit(X_train, y_train)\n",
    "\n",
    "# Display coefficients along with feature names\n",
    "feature_names = X_train.columns\n",
    "coefficients = lasso_model.coef_\n",
    "\n",
    "# Print feature names with their corresponding coefficients\n",
    "print(\"Feature coefficients:\")\n",
    "for feature, coef in zip(feature_names, coefficients):\n",
    "    print(f\"{feature}: {coef}\")\n"
   ]
  },
  {
   "cell_type": "code",
   "execution_count": 122,
   "id": "0862b96b",
   "metadata": {},
   "outputs": [
    {
     "data": {
      "image/png": "[encoded data removed]",
      "text/plain": [
       "<Figure size 720x432 with 1 Axes>"
      ]
     },
     "metadata": {
      "needs_background": "light"
     },
     "output_type": "display_data"
    }
   ],
   "source": [
    "# Coefficients from the model\n",
    "coefficients = lasso_model.coef_\n",
    "\n",
    "# Create a bar chart\n",
    "plt.figure(figsize=(10, 6))\n",
    "plt.bar(X_train.columns, coefficients, color='blue')\n",
    "plt.xlabel('Features')\n",
    "plt.ylabel('Coefficient Value')\n",
    "plt.title('Feature Coefficients from Lasso Regression')\n",
    "plt.xticks(rotation=45)\n",
    "plt.tight_layout()\n",
    "plt.show()"
   ]
  },
  {
   "cell_type": "code",
   "execution_count": 123,
   "id": "32c5c536",
   "metadata": {},
   "outputs": [
    {
     "name": "stdout",
     "output_type": "stream",
     "text": [
      "Optimal alpha: 0.024722313264171125\n",
      "Coefficients with optimal alpha:\n",
      "C_A1cefr.rate: 0.0 (not selected)\n",
      "C_CDgrasp: 0.012666816562781182 (selected)\n",
      "C_LA50: -0.0 (not selected)\n",
      "C_tE50: 0.0 (not selected)\n",
      "C_tE75: 0.6219715561156902 (selected)\n",
      "C_SW: 0.0 (not selected)\n",
      "C_ALT: 0.0 (not selected)\n",
      "C_ALTout: 0.0 (not selected)\n",
      "C_ICTpre: 0.17404117272407985 (selected)\n",
      "C_ICTrec: 0.01865199072938563 (selected)\n",
      "Number of selected features: 4\n"
     ]
    }
   ],
   "source": [
    "# Optimize alpha\n",
    "# Lasso with Cross-Validation\n",
    "lasso_cv = LassoCV(alphas=None, cv=10, max_iter=100000, normalize=True)\n",
    "lasso_cv.fit(X_train, y_train)\n",
    "\n",
    "# Best alpha\n",
    "print(\"Optimal alpha:\", lasso_cv.alpha_)\n",
    "\n",
    "# Get feature names from the DataFrame\n",
    "feature_names = X_train.columns\n",
    "\n",
    "# Coefficients with the best alpha\n",
    "coefficients = lasso_cv.coef_\n",
    "selected_features_count = 0\n",
    "print(\"Coefficients with optimal alpha:\")\n",
    "for feature, coef in zip(feature_names, coefficients):\n",
    "    status = \"selected\" if coef != 0 else \"not selected\"\n",
    "    if coef != 0:\n",
    "        selected_features_count += 1\n",
    "    print(f\"{feature}: {coef} ({status})\")\n",
    "\n",
    "# Display the number of selected features\n",
    "print(f\"Number of selected features: {selected_features_count}\")"
   ]
  },
  {
   "cell_type": "code",
   "execution_count": 124,
   "id": "ab38415f",
   "metadata": {},
   "outputs": [
    {
     "data": {
      "image/png": "[encoded data removed]",
      "text/plain": [
       "<Figure size 720x432 with 1 Axes>"
      ]
     },
     "metadata": {
      "needs_background": "light"
     },
     "output_type": "display_data"
    }
   ],
   "source": [
    "# Coefficients from the model\n",
    "coefficients = lasso_cv.coef_\n",
    "\n",
    "# Create a bar chart\n",
    "plt.figure(figsize=(10, 6))\n",
    "plt.bar(X_train.columns, coefficients, color='blue')\n",
    "plt.xlabel('Features')\n",
    "plt.ylabel('Coefficient Value')\n",
    "plt.title('Feature Coefficients from Lasso Regression (CV)')\n",
    "plt.xticks(rotation=45)\n",
    "plt.tight_layout()\n",
    "plt.show()"
   ]
  },
  {
   "cell_type": "code",
   "execution_count": 130,
   "id": "281be11e",
   "metadata": {},
   "outputs": [
    {
     "name": "stdout",
     "output_type": "stream",
     "text": [
      "Mean Squared Error: 0.4124462987800174\n",
      "R-squared: 0.31802889596532824\n",
      "Adjusted R-squared: -0.909519091297081\n",
      "AIC: -23.757593852394926\n"
     ]
    }
   ],
   "source": [
    "# Making predictions on the test set\n",
    "y_pred = lasso_cv.predict(X_test)\n",
    "\n",
    "# Calculate the Mean Squared Error\n",
    "mse = mean_squared_error(y_test, y_pred)\n",
    "print(f\"Mean Squared Error: {mse}\")\n",
    "\n",
    "# Calculate the R-squared\n",
    "r_squared = r2_score(y_test, y_pred)\n",
    "print(f\"R-squared: {r_squared}\")\n",
    "\n",
    "n = len(X_test) # Number of observations\n",
    "p = selected_features_count + 1 # Number of independent variables in the model +1 (intercept)\n",
    "\n",
    "# Calculate the Adjusted R-squared\n",
    "adjusted_r_squared = 1 - (1 - r_squared) * (n - 1) / (n - p - 1)\n",
    "print(f\"Adjusted R-squared: {adjusted_r_squared}\")\n",
    "\n",
    "# Calculate AIC\n",
    "y_pred = lasso_cv.predict(X_train) # Predict the response on the training data\n",
    "rss = np.sum((y_train - y_pred) ** 2) # RSS\n",
    "n = len(y_train) # Number of observations and predictors\n",
    "p = np.sum(lasso_cv.coef_ != 0) + 1  # Including intercept\n",
    "\n",
    "log_likelihood = -n/2 * np.log(rss/n) # Estimate log-likelihood\n",
    "aic = 2 * p - 2 * log_likelihood # AIC\n",
    "print(f\"AIC: {aic}\")"
   ]
  },
  {
   "cell_type": "markdown",
   "id": "625b6378",
   "metadata": {},
   "source": [
    "Adjusted R-squared has become a negative value!\n",
    "However, given that I am currently using the Lasso regularazation approach for feature selection, it might not be meaningfull to check the model performance indeces now. I'll check them at the last step."
   ]
  },
  {
   "cell_type": "markdown",
   "id": "9e4b64e1",
   "metadata": {},
   "source": [
    "# Elastic-Net feature selection"
   ]
  },
  {
   "cell_type": "code",
   "execution_count": 131,
   "id": "9be76a6f",
   "metadata": {},
   "outputs": [
    {
     "name": "stdout",
     "output_type": "stream",
     "text": [
      "Feature coefficients:\n",
      "C_A1cefr.rate: -0.0\n",
      "C_CDgrasp: 0.12984690053239942\n",
      "C_LA50: -0.13149121281998954\n",
      "C_tE50: 0.03617956787201678\n",
      "C_tE75: 0.6286111104092623\n",
      "C_SW: 0.0\n",
      "C_ALT: 0.0\n",
      "C_ALTout: 0.01146293007056885\n",
      "C_ICTpre: 0.19140874145620568\n",
      "C_ICTrec: 0.09248381710615618\n"
     ]
    }
   ],
   "source": [
    "# Initialize ElasticNet model\n",
    "elastic_net = ElasticNet(alpha=0.1, l1_ratio=0.5) # alpha controls the overall strength of the penalty,\n",
    "elastic_net.fit(X_train, y_train)                 # l1_ratio controls the balance between L1 and L2\n",
    "\n",
    "# Display coefficients along with feature names\n",
    "feature_names = X_train.columns\n",
    "coefficients = elastic_net.coef_\n",
    "\n",
    "# Print feature names with their corresponding coefficients\n",
    "print(\"Feature coefficients:\")\n",
    "for feature, coef in zip(feature_names, coefficients):\n",
    "    print(f\"{feature}: {coef}\")\n"
   ]
  },
  {
   "cell_type": "code",
   "execution_count": 132,
   "id": "0e2ac979",
   "metadata": {},
   "outputs": [
    {
     "data": {
      "image/png": "[encoded data removed]",
      "text/plain": [
       "<Figure size 720x432 with 1 Axes>"
      ]
     },
     "metadata": {
      "needs_background": "light"
     },
     "output_type": "display_data"
    }
   ],
   "source": [
    "# Coefficients from the model\n",
    "coefficients = elastic_net.coef_\n",
    "\n",
    "# Create a bar chart\n",
    "plt.figure(figsize=(10, 6))\n",
    "plt.bar(X_train.columns, coefficients, color='blue')\n",
    "plt.xlabel('Features')\n",
    "plt.ylabel('Coefficient Value')\n",
    "plt.title('Feature Coefficients from Elastic Net Regression')\n",
    "plt.xticks(rotation=45)\n",
    "plt.tight_layout()\n",
    "plt.show()"
   ]
  },
  {
   "cell_type": "code",
   "execution_count": 133,
   "id": "e84e76e0",
   "metadata": {},
   "outputs": [
    {
     "name": "stdout",
     "output_type": "stream",
     "text": [
      "Optimal alpha: 0.05569171303067866\n",
      "Optimal l1_ratio: 0.7\n",
      "Coefficients with optimal alpha:\n",
      "C_A1cefr.rate: -0.015568499946110472 (selected)\n",
      "C_CDgrasp: 0.13499869355673608 (selected)\n",
      "C_LA50: -0.19982818353562373 (selected)\n",
      "C_tE50: 0.09197153143874183 (selected)\n",
      "C_tE75: 0.6685276875128463 (selected)\n",
      "C_SW: 0.0 (not selected)\n",
      "C_ALT: 0.0 (not selected)\n",
      "C_ALTout: 0.003915309994521407 (selected)\n",
      "C_ICTpre: 0.18916490393581104 (selected)\n",
      "C_ICTrec: 0.09533499410973433 (selected)\n",
      "Number of selected features: 8\n"
     ]
    }
   ],
   "source": [
    "# Setting up the ElasticNetCV model\n",
    "elastic_net_cv = ElasticNetCV(alphas=None, cv=5, l1_ratio=[.1, .5, .7, .9, .95, .99, 1], max_iter=10000)\n",
    "\n",
    "# Fitting the model\n",
    "elastic_net_cv.fit(X_train, y_train)\n",
    "\n",
    "# Best parameters\n",
    "print(f\"Optimal alpha: {elastic_net_cv.alpha_}\")\n",
    "print(f\"Optimal l1_ratio: {elastic_net_cv.l1_ratio_}\")\n",
    "\n",
    "# Coefficients with the best parameters from Elastic Net\n",
    "feature_names = X_train.columns  # Retrieve feature names from X_train DataFrame\n",
    "coefficients = elastic_net_cv.coef_\n",
    "selected_features_count = 0\n",
    "print(\"Coefficients with optimal alpha:\")\n",
    "for feature, coef in zip(feature_names, coefficients):\n",
    "    status = \"selected\" if coef != 0 else \"not selected\"\n",
    "    if coef != 0:\n",
    "        selected_features_count += 1\n",
    "    print(f\"{feature}: {coef} ({status})\")\n",
    "\n",
    "# Display the number of selected features\n",
    "print(f\"Number of selected features: {selected_features_count}\")"
   ]
  },
  {
   "cell_type": "code",
   "execution_count": 134,
   "id": "124e6835",
   "metadata": {},
   "outputs": [
    {
     "data": {
      "image/png": "[encoded data removed]",
      "text/plain": [
       "<Figure size 720x432 with 1 Axes>"
      ]
     },
     "metadata": {
      "needs_background": "light"
     },
     "output_type": "display_data"
    }
   ],
   "source": [
    "# Coefficients from the model\n",
    "coefficients = elastic_net_cv.coef_\n",
    "\n",
    "# Create a bar chart\n",
    "plt.figure(figsize=(10, 6))\n",
    "plt.bar(X_train.columns, coefficients, color='blue')\n",
    "plt.xlabel('Features')\n",
    "plt.ylabel('Coefficient Value')\n",
    "plt.title('Feature Coefficients from Elastic Net Regression')\n",
    "plt.xticks(rotation=45)\n",
    "plt.tight_layout()\n",
    "plt.show()"
   ]
  },
  {
   "cell_type": "markdown",
   "id": "41538ff8",
   "metadata": {},
   "source": [
    "The automatic process selected 8 predictors; however, the coefficients of some features, such as C_A1.cefr.rate and C_ICTrec, are quite small. Therefore, you might consider truncating them in practical analysis."
   ]
  },
  {
   "cell_type": "code",
   "execution_count": null,
   "id": "8bebed6f",
   "metadata": {},
   "outputs": [],
   "source": [
    "# Making predictions on the test set\n",
    "y_pred = elastic_net_cv.predict(X_test)\n",
    "\n",
    "# Calculate the Mean Squared Error\n",
    "mse = mean_squared_error(y_test, y_pred)\n",
    "print(f\"Mean Squared Error: {mse}\")\n",
    "\n",
    "# Calculate the R-squared\n",
    "r_squared = r2_score(y_test, y_pred)\n",
    "print(f\"R-squared: {r_squared}\")\n",
    "\n",
    "n = len(X_test) # Number of observations\n",
    "p = selected_features_count + 1 # Number of independent variables in the model +1 (intercept)\n",
    "\n",
    "# Calculate the Adjusted R-squared\n",
    "adjusted_r_squared = 1 - (1 - r_squared) * (n - 1) / (n - p - 1)\n",
    "print(f\"Adjusted R-squared: {adjusted_r_squared}\")\n",
    "\n",
    "# Calculate AIC\n",
    "y_pred = elastic_net_cv.predict(X_train) # Predict the response on the training data\n",
    "rss = np.sum((y_train - y_pred) ** 2) # RSS\n",
    "n = len(y_train) # Number of observations and predictors\n",
    "p = np.sum(lasso_cv.coef_ != 0) + 1  # Including intercept\n",
    "\n",
    "log_likelihood = -n/2 * np.log(rss/n) # Estimate log-likelihood\n",
    "aic = 2 * p - 2 * log_likelihood # AIC\n",
    "print(f\"AIC: {aic}\")\n"
   ]
  },
  {
   "cell_type": "markdown",
   "id": "5861c996",
   "metadata": {},
   "source": [
    "As mentioned above, considering the model performance at this stage does not seem meaningfull. However, I just calculated them for now."
   ]
  },
  {
   "cell_type": "markdown",
   "id": "e1b2fc21",
   "metadata": {},
   "source": [
    "# GAM modeling\n",
    "Through the analysis above, I chose to add the feature \"C_ICTpre\" into my previous GAM for this project. I was originally going to perform GAM by using the library pyGAM in this notebook, but the environment crashed once I tried earlier. So, for safety, I just paste the result I conducted in R. The feature 'ICTpre' was ultimately included in the model linearly. In my previous survey, I analyzed four GAMs, from Model_1 to Model_4. This time, I newly built Model_5. Its summary and comparisons, in terms of Adjusted R-squared and Deviance Explained, are shown below."
   ]
  },
  {
   "cell_type": "markdown",
   "id": "a69a16d2",
   "metadata": {},
   "source": [
    "<div style=\"display:flex;\">\n",
    "    <img src=\"RGAM_summary.png\" style=\"width:400px; height:300px;\">\n",
    "    <img src=\"Rplot_RGAM_adjR2.jpeg\" style=\"width:400px; height:300px;\">\n",
    "    <img src=\"Rplot_RGAM_DevExp.jpeg\" style=\"width:400px; height:300px;\">\n",
    "</div>\n"
   ]
  },
  {
   "cell_type": "markdown",
   "id": "893835f1",
   "metadata": {},
   "source": [
    "Previously, I chose Model_3 as the best model considering the two model performance indeces. However, compared to that, our new model displayed the best Adjusted R-squared. On the other hand, Deviance Explained was not the best.\n",
    "Model selection is not a simple process and requires more dedicated discussion from here. Nevertheless, it was intriguing to note that Adjusted R-squared showed some improvement."
   ]
  },
  {
   "cell_type": "code",
   "execution_count": null,
   "id": "bf94f1ae",
   "metadata": {},
   "outputs": [],
   "source": []
  }
 ],
 "metadata": {
  "kernelspec": {
   "display_name": "Python 3 (ipykernel)",
   "language": "python",
   "name": "python3"
  },
  "language_info": {
   "codemirror_mode": {
    "name": "ipython",
    "version": 3
   },
   "file_extension": ".py",
   "mimetype": "text/x-python",
   "name": "python",
   "nbconvert_exporter": "python",
   "pygments_lexer": "ipython3",
   "version": "3.9.7"
  }
 },
 "nbformat": 4,
 "nbformat_minor": 5
}
